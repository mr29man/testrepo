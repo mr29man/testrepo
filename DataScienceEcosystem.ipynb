{
  "nbformat": 4,
  "nbformat_minor": 0,
  "metadata": {
    "colab": {
      "provenance": [],
      "authorship_tag": "ABX9TyNvRBUdn70B4c7eH/cGWVnE",
      "include_colab_link": true
    },
    "kernelspec": {
      "name": "python3",
      "display_name": "Python 3"
    },
    "language_info": {
      "name": "python"
    }
  },
  "cells": [
    {
      "cell_type": "markdown",
      "metadata": {
        "id": "view-in-github",
        "colab_type": "text"
      },
      "source": [
        "<a href=\"https://colab.research.google.com/github/mr29man/testrepo/blob/main/DataScienceEcosystem.ipynb\" target=\"_parent\"><img src=\"https://colab.research.google.com/assets/colab-badge.svg\" alt=\"Open In Colab\"/></a>"
      ]
    },
    {
      "cell_type": "markdown",
      "source": [
        "# Data Science Tools and Ecosystem"
      ],
      "metadata": {
        "id": "vHjKMUipW8mQ"
      }
    },
    {
      "cell_type": "markdown",
      "source": [
        "In this notebook, Data Science Tools and Ecosystem are summarized."
      ],
      "metadata": {
        "id": "-0RIIYUDXYMy"
      }
    },
    {
      "cell_type": "markdown",
      "source": [
        "**Objectives:**\n",
        "\n",
        "\n",
        "*   List popular languages for Data Science\n",
        "*   List commonly used libraries used by Data Scientists\n",
        "*   List popular Data Science Tools\n",
        "* Show examples of evaluating arithmetic expressions in Python\n",
        "\n"
      ],
      "metadata": {
        "id": "ukYBkIp8buuy"
      }
    },
    {
      "cell_type": "markdown",
      "source": [
        "Some of the popular languages that Data Scientists use are"
      ],
      "metadata": {
        "id": "Ht3fYGykXe1_"
      }
    },
    {
      "cell_type": "markdown",
      "source": [
        "1. Python\n",
        "2. R\n",
        "3. SQL\n",
        "\n",
        "\n"
      ],
      "metadata": {
        "id": "PvQghDRNXsTj"
      }
    },
    {
      "cell_type": "markdown",
      "source": [
        "Some of the commonly used libraries used by Data Scientists include:"
      ],
      "metadata": {
        "id": "KQnYjnz7YWuL"
      }
    },
    {
      "cell_type": "markdown",
      "source": [
        "1. NumPy\n",
        "2. Pandas\n",
        "3. Scikit-learn\n",
        "\n"
      ],
      "metadata": {
        "id": "jrYnO8hHYeMD"
      }
    },
    {
      "cell_type": "markdown",
      "source": [
        "| Data Science Tools |\n",
        "    | --- |\n",
        "    | Jupyter Notebooks |\n",
        "    | RStudio |\n",
        "    | VS Code |"
      ],
      "metadata": {
        "id": "MPyaefS5ZeAk"
      }
    },
    {
      "cell_type": "markdown",
      "source": [
        "### Below are a few examples of evaluating arithmetic expressions in Python."
      ],
      "metadata": {
        "id": "0Vm4Ums_ZoGK"
      }
    },
    {
      "cell_type": "markdown",
      "source": [
        "This a simple arithmetic expression to mutiply then add integers"
      ],
      "metadata": {
        "id": "k-SPwiXMaaAO"
      }
    },
    {
      "cell_type": "code",
      "source": [
        "(3*4)+5"
      ],
      "metadata": {
        "colab": {
          "base_uri": "https://localhost:8080/"
        },
        "id": "mxTVs51saeCW",
        "outputId": "583d401c-5810-4efc-b6a2-9cb48df3b921"
      },
      "execution_count": 4,
      "outputs": [
        {
          "output_type": "execute_result",
          "data": {
            "text/plain": [
              "17"
            ]
          },
          "metadata": {},
          "execution_count": 4
        }
      ]
    },
    {
      "cell_type": "markdown",
      "source": [
        "This will convert 200 minutes to hours by diving by 60"
      ],
      "metadata": {
        "id": "wW0y6A7da05u"
      }
    },
    {
      "source": [
        "# Conversion of 200 minutes into hours\n",
        "minutes = 200\n",
        "hours = minutes / 60\n",
        "\n",
        "#Display the result in hours\n",
        "print(hours)\n",
        "\n",
        "# Display the result with hours and minutes\n",
        "whole_hours = int(hours)\n",
        "remaining_minutes = (hours - whole_hours) * 60\n",
        "print(f\"{whole_hours} hours and {int(remaining_minutes)} minutes\")"
      ],
      "cell_type": "code",
      "metadata": {
        "colab": {
          "base_uri": "https://localhost:8080/"
        },
        "id": "upBUyxqqbCKW",
        "outputId": "e474dc02-f3d1-4abc-9258-5a34bdad3847"
      },
      "execution_count": 5,
      "outputs": [
        {
          "output_type": "stream",
          "name": "stdout",
          "text": [
            "3.3333333333333335\n",
            "3 hours and 20 minutes\n"
          ]
        }
      ]
    },
    {
      "cell_type": "markdown",
      "source": [
        "## Author\n",
        "Nick Watanabe"
      ],
      "metadata": {
        "id": "boWqHM2Ncv1N"
      }
    }
  ]
}